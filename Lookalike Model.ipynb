{
 "cells": [
  {
   "cell_type": "markdown",
   "id": "b4d9f619-9f40-4c08-9411-08d813c802de",
   "metadata": {},
   "source": [
    "#### 1. Data Loading & Merging"
   ]
  },
  {
   "cell_type": "code",
   "execution_count": 44,
   "id": "aa5303f9-2df0-4528-a242-104453689ad5",
   "metadata": {},
   "outputs": [],
   "source": [
    "import pandas as pd\n",
    "import numpy as np\n",
    "from sklearn.preprocessing import StandardScaler, OneHotEncoder\n",
    "from sklearn.metrics.pairwise import cosine_similarity\n",
    "from sklearn.compose import ColumnTransformer\n",
    "\n",
    "# Load all datasets\n",
    "customers = pd.read_csv('Customers.csv')\n",
    "products = pd.read_csv('Products.csv')\n",
    "transactions = pd.read_csv('Transactions.csv')\n",
    "\n",
    "# Convert date fields to datetime\n",
    "transactions['TransactionDate'] = pd.to_datetime(transactions['TransactionDate'])\n",
    "customers['SignupDate'] = pd.to_datetime(customers['SignupDate'])\n",
    "\n",
    "# Merge all datasets\n",
    "merged_data = pd.merge(\n",
    "    pd.merge(transactions, customers, on='CustomerID'),\n",
    "    products, on='ProductID'\n",
    ")"
   ]
  },
  {
   "cell_type": "markdown",
   "id": "84ed058f-0d9f-4f07-afca-5e31180bb1ca",
   "metadata": {},
   "source": [
    "#### 2. Feature Engineering"
   ]
  },
  {
   "cell_type": "code",
   "execution_count": 46,
   "id": "cfd38339-76d1-43a0-81f1-4bd5aa015d70",
   "metadata": {},
   "outputs": [],
   "source": [
    "def create_customer_features(df):\n",
    "    # Create comprehensive customer features\n",
    "    features = df.groupby('CustomerID').agg({\n",
    "        'TotalValue': ['sum', 'mean', 'count'],\n",
    "        'TransactionDate': ['min', 'max'],\n",
    "        'Region': 'first',\n",
    "        'SignupDate': 'first'\n",
    "    })\n",
    "    \n",
    "    # Flatten multi-index columns\n",
    "    features.columns = [\n",
    "        'total_spent', 'avg_transaction', 'transaction_count',\n",
    "        'first_purchase', 'last_purchase', 'region', 'signup_date'\n",
    "    ]\n",
    "    \n",
    "    # Calculate derived features\n",
    "    reference_date = pd.to_datetime('2024-12-31')\n",
    "    features['days_since_signup'] = (reference_date - features['signup_date']).dt.days\n",
    "    features['days_since_last_purchase'] = (reference_date - features['last_purchase']).dt.days\n",
    "    \n",
    "    # Determine favorite product category\n",
    "    category_counts = df.groupby(['CustomerID', 'Category'])['TransactionID'].count().unstack().fillna(0)\n",
    "    features['favorite_category'] = category_counts.idxmax(axis=1)\n",
    "    \n",
    "    return features\n",
    "\n",
    "customer_features = create_customer_features(merged_data)"
   ]
  },
  {
   "cell_type": "markdown",
   "id": "8173255f-8f95-454f-89b7-0170cddaddcc",
   "metadata": {},
   "source": [
    "#### 3. Encoding & Normalization"
   ]
  },
  {
   "cell_type": "code",
   "execution_count": 48,
   "id": "ef83b487-00c4-4585-8be3-7c4553b549ff",
   "metadata": {},
   "outputs": [],
   "source": [
    "# Define feature types\n",
    "numerical_features = [\n",
    "    'total_spent', 'avg_transaction', 'transaction_count',\n",
    "    'days_since_signup', 'days_since_last_purchase'\n",
    "]\n",
    "categorical_features = ['region', 'favorite_category']\n",
    "\n",
    "# Create preprocessing pipeline\n",
    "preprocessor = ColumnTransformer(\n",
    "    transformers=[\n",
    "        ('num', StandardScaler(), numerical_features),\n",
    "        ('cat', OneHotEncoder(handle_unknown='ignore'), categorical_features)\n",
    "    ])\n",
    "\n",
    "# Transform features\n",
    "X = preprocessor.fit_transform(customer_features)"
   ]
  },
  {
   "cell_type": "markdown",
   "id": "07b900bd-ca9d-4d90-b1c7-9175f05b2a30",
   "metadata": {},
   "source": [
    "#### 4. Similarity Calculation"
   ]
  },
  {
   "cell_type": "code",
   "execution_count": 50,
   "id": "04eb315f-9b06-476c-96f3-7bce1d2e6bd2",
   "metadata": {},
   "outputs": [],
   "source": [
    "# Compute cosine similarity matrix\n",
    "similarity_matrix = cosine_similarity(X)\n",
    "\n",
    "# Convert to DataFrame with customer IDs\n",
    "similarity_df = pd.DataFrame(\n",
    "    similarity_matrix,\n",
    "    index=customer_features.index,\n",
    "    columns=customer_features.index\n",
    ")"
   ]
  },
  {
   "cell_type": "markdown",
   "id": "49878d8c-0902-433e-899d-1a5d5417753e",
   "metadata": {},
   "source": [
    "#### 5. Top-N Recommendations"
   ]
  },
  {
   "cell_type": "code",
   "execution_count": 53,
   "id": "38436c0d-4a11-4b87-b4fd-470fd35ae119",
   "metadata": {},
   "outputs": [],
   "source": [
    "def get_top_similar_customers(target_customer, similarity_df, n=3):\n",
    "    \"\"\"Get top N similar customers excluding self\"\"\"\n",
    "    similarities = similarity_df[target_customer].drop(target_customer)\n",
    "    return similarities.sort_values(ascending=False).head(n).items()\n",
    "\n",
    "# Generate recommendations for first 20 customers\n",
    "target_customers = [f'C{str(i).zfill(4)}' for i in range(1, 21)]\n",
    "lookalike_map = {}\n",
    "\n",
    "for cust_id in target_customers:\n",
    "    if cust_id in similarity_df.index:\n",
    "        similar_customers = list(get_top_similar_customers(cust_id, similarity_df))\n",
    "        lookalike_map[cust_id] = [(sim_cust, round(score, 4)) for sim_cust, score in similar_customers]"
   ]
  },
  {
   "cell_type": "markdown",
   "id": "1270d328-9918-469f-975a-66c6ff7e2944",
   "metadata": {},
   "source": [
    "#### 6. Export Results"
   ]
  },
  {
   "cell_type": "code",
   "execution_count": 62,
   "id": "e595d874-368f-4345-a8ce-cef5cfabe1aa",
   "metadata": {},
   "outputs": [],
   "source": [
    "# Convert map to DataFrame for CSV export\n",
    "output_data = []\n",
    "for cust_id, similar_list in lookalike_map.items():\n",
    "    for similar_cust, score in similar_list:\n",
    "        output_data.append({\n",
    "            'customer_id': cust_id,\n",
    "            'similar_customer': similar_cust,\n",
    "            'similarity_score': score\n",
    "        })\n",
    "\n",
    "# Save to CSV\n",
    "output_df = pd.DataFrame(output_data)\n",
    "output_df.to_csv('Lookalike.csv', index=False)\n",
    "\n",
    "# Also save the map structure\n",
    "import json\n",
    "with open('Lookalike_map.json', 'w') as f:\n",
    "    json.dump(lookalike_map, f, indent=2)"
   ]
  },
  {
   "cell_type": "code",
   "execution_count": 64,
   "id": "73365a7d-ca12-4ef6-a193-6cf769ab509e",
   "metadata": {},
   "outputs": [
    {
     "data": {
      "image/png": "[encoded data removed]",
      "text/plain": [
       "<Figure size 1000x600 with 1 Axes>"
      ]
     },
     "metadata": {},
     "output_type": "display_data"
    }
   ],
   "source": [
    "import matplotlib.pyplot as plt\n",
    "import numpy as np\n",
    "\n",
    "plt.figure(figsize=(10, 6))\n",
    "\n",
    "# Log scale if data is right-skewed (common for spending)\n",
    "plt.hist(np.log1p(customer_features['total_spent']), bins=20, \n",
    "         edgecolor='black', alpha=0.7)\n",
    "plt.title(\"Distribution of Total Spending (Log Scale)\", pad=20)\n",
    "plt.xlabel(\"Log(Total Spent + 1)\")\n",
    "plt.ylabel(\"Number of Customers\")\n",
    "\n",
    "# Add median/mean markers\n",
    "median = np.log1p(customer_features['total_spent'].median())\n",
    "mean = np.log1p(customer_features['total_spent'].mean())\n",
    "plt.axvline(median, color='red', linestyle='--', label=f'Median: ${np.expm1(median):.2f}')\n",
    "plt.axvline(mean, color='green', linestyle='--', label=f'Mean: ${np.expm1(mean):.2f}')\n",
    "\n",
    "plt.legend()\n",
    "plt.grid(axis='y', alpha=0.3)\n",
    "plt.show()"
   ]
  },
  {
   "cell_type": "code",
   "execution_count": 40,
   "id": "d8b6e7cd-c9f8-4058-bed1-d9d802750662",
   "metadata": {},
   "outputs": [
    {
     "name": "stdout",
     "output_type": "stream",
     "text": [
      "\n",
      "Missing values check:\n",
      "total_spent                 0\n",
      "avg_transaction             0\n",
      "transaction_count           0\n",
      "first_purchase              0\n",
      "last_purchase               0\n",
      "region                      0\n",
      "signup_date                 0\n",
      "days_since_signup           0\n",
      "days_since_last_purchase    0\n",
      "favorite_category           0\n",
      "dtype: int64\n"
     ]
    }
   ],
   "source": [
    "print(\"\\nMissing values check:\")\n",
    "print(customer_features.isnull().sum())"
   ]
  },
  {
   "cell_type": "code",
   "execution_count": 42,
   "id": "184fbe79-9bde-4254-b188-2c4cdcf2683f",
   "metadata": {},
   "outputs": [
    {
     "name": "stdout",
     "output_type": "stream",
     "text": [
      "\n",
      "Customer Features Summary:\n",
      "        total_spent  avg_transaction  transaction_count  \\\n",
      "count    199.000000       199.000000         199.000000   \n",
      "mean    3467.314372       687.580182           5.025126   \n",
      "min       82.360000        82.360000           1.000000   \n",
      "25%     2162.040000       542.941667           3.000000   \n",
      "50%     3137.660000       677.207500           5.000000   \n",
      "75%     4770.225000       828.624167           6.000000   \n",
      "max    10673.870000      1323.133333          11.000000   \n",
      "std     1832.677958       237.936649           2.198340   \n",
      "\n",
      "                      first_purchase                  last_purchase  \\\n",
      "count                            199                            199   \n",
      "mean   2024-03-04 03:07:38.532663552  2024-10-15 01:17:23.909547520   \n",
      "min              2023-12-30 15:29:12            2024-01-02 19:11:34   \n",
      "25%       2024-01-17 15:36:12.500000     2024-09-15 00:45:57.500000   \n",
      "50%              2024-02-12 03:10:36            2024-10-30 08:16:03   \n",
      "75%              2024-03-25 19:19:33            2024-12-10 18:57:13   \n",
      "max              2024-12-24 11:40:24            2024-12-28 11:00:00   \n",
      "std                              NaN                            NaN   \n",
      "\n",
      "                         signup_date  days_since_signup  \\\n",
      "count                            199         199.000000   \n",
      "mean   2023-07-18 20:44:37.386934784         531.135678   \n",
      "min              2022-01-22 00:00:00           3.000000   \n",
      "25%              2022-09-25 00:00:00         262.000000   \n",
      "50%              2023-08-19 00:00:00         500.000000   \n",
      "75%              2024-04-13 00:00:00         828.000000   \n",
      "max              2024-12-28 00:00:00        1074.000000   \n",
      "std                              NaN         326.273413   \n",
      "\n",
      "       days_since_last_purchase  \n",
      "count                199.000000  \n",
      "mean                  76.477387  \n",
      "min                    2.000000  \n",
      "25%                   20.000000  \n",
      "50%                   61.000000  \n",
      "75%                  106.500000  \n",
      "max                  363.000000  \n",
      "std                   70.924189  \n"
     ]
    }
   ],
   "source": [
    "print(\"\\nCustomer Features Summary:\")\n",
    "print(customer_features.describe())"
   ]
  },
  {
   "cell_type": "code",
   "execution_count": null,
   "id": "e9bfd87a-856b-4103-854d-a326dc133a45",
   "metadata": {},
   "outputs": [],
   "source": []
  }
 ],
 "metadata": {
  "kernelspec": {
   "display_name": "Python 3 (ipykernel)",
   "language": "python",
   "name": "python3"
  },
  "language_info": {
   "codemirror_mode": {
    "name": "ipython",
    "version": 3
   },
   "file_extension": ".py",
   "mimetype": "text/x-python",
   "name": "python",
   "nbconvert_exporter": "python",
   "pygments_lexer": "ipython3",
   "version": "3.12.4"
  }
 },
 "nbformat": 4,
 "nbformat_minor": 5
}
